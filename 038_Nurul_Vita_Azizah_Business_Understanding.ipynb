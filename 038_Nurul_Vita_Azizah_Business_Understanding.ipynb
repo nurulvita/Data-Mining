{
  "nbformat": 4,
  "nbformat_minor": 0,
  "metadata": {
    "colab": {
      "provenance": [],
      "authorship_tag": "ABX9TyNqIhphlP6at1mIqwcqj3RF",
      "include_colab_link": true
    },
    "kernelspec": {
      "name": "python3",
      "display_name": "Python 3"
    },
    "language_info": {
      "name": "python"
    }
  },
  "cells": [
    {
      "cell_type": "markdown",
      "metadata": {
        "id": "view-in-github",
        "colab_type": "text"
      },
      "source": [
        "<a href=\"https://colab.research.google.com/github/nurulvita/Data-Mining/blob/main/038_Nurul_Vita_Azizah_Business_Understanding.ipynb\" target=\"_parent\"><img src=\"https://colab.research.google.com/assets/colab-badge.svg\" alt=\"Open In Colab\"/></a>"
      ]
    },
    {
      "cell_type": "code",
      "execution_count": null,
      "metadata": {
        "id": "DNxc0DWvKQz2"
      },
      "outputs": [],
      "source": []
    },
    {
      "cell_type": "markdown",
      "source": [
        "# **Analisis Angka Profitabilitas dan Prediksi Keberhasilan Genre Film dengan Memperhitungkan Faktor-Faktor yang Mempengaruhi**"
      ],
      "metadata": {
        "id": "v_mEy0aMMUR2"
      }
    },
    {
      "cell_type": "markdown",
      "source": [
        "### Business Understanding"
      ],
      "metadata": {
        "id": "SscIw3zGMbX4"
      }
    },
    {
      "cell_type": "markdown",
      "source": [
        " Business Objective\n",
        "\n",
        "\n",
        "---\n",
        "\n"
      ],
      "metadata": {
        "id": "fFxfRBThMnwc"
      }
    },
    {
      "cell_type": "markdown",
      "source": [
        "Tujuan bisnis dari dataset ini adalah untuk mengoptimalkan investasi di industri film dengan memprediksi potensi genre film dengan tingkat keberhasilan tinggi, dengan fokus pada peningkatan profitabilitas produksi. Dengan menganalisis tren industri film, sejarah profitabilitas film di masa lalu, dan faktor-faktor kunci yang mempengaruhi kesuksesan genre film\n"
      ],
      "metadata": {
        "id": "TDMgIM2cNw_Y"
      }
    },
    {
      "cell_type": "markdown",
      "source": [
        "Assess Situation\n",
        "\n",
        "\n",
        "---\n",
        "\n"
      ],
      "metadata": {
        "id": "2KOvAh9_NojL"
      }
    },
    {
      "cell_type": "markdown",
      "source": [
        "\n",
        "1.   Menganalisis tren industri film saat ini seperti popularitas genre, perubahan selera penonton, dan faktor eksternal yang mempengaruhi industri film.\n",
        "2.   Analisis profitabilitas film dengan melihat profibilitas film-film sebelumnya serta menganalisis genre yang telah sukses dan tidak sukses secara finansial.\n",
        "\n"
      ],
      "metadata": {
        "id": "pBC63gD_PEqv"
      }
    },
    {
      "cell_type": "markdown",
      "source": [
        "Data Mining Goals\n",
        "\n",
        "\n",
        "---\n",
        "\n"
      ],
      "metadata": {
        "id": "QGnKnwuGPI7E"
      }
    },
    {
      "cell_type": "markdown",
      "source": [
        "\n",
        "1.   Segmentasi Genre Film: Mengidentifikasi pola dan tren  genre film yang menghasilkan profitabilitas tinggi.\n",
        "2.   Pemodelan Prediktif: Mengembangkan model prediktif yang memprediksi kesuksesan finansial sebuah film berdasarkan faktor-faktor tertentu.\n",
        "\n"
      ],
      "metadata": {
        "id": "pVADDfmLPLgP"
      }
    },
    {
      "cell_type": "markdown",
      "source": [
        "Project Plan\n",
        "\n",
        "\n",
        "---\n",
        "\n"
      ],
      "metadata": {
        "id": "vlGGcOgmPMJe"
      }
    },
    {
      "cell_type": "markdown",
      "source": [
        "Langkah pertama dalam proyek ini adalah mengumpulkan data film sebelumnya, termasuk informasi pendapatan kotor, penjualan tiket, dan angka yang disesuaikan dengan inflasi serta data relevan lainnya. Proses pengumpulan ini dilanjutkan dengan pengolahan data, termasuk pembersihan data dan pengintegrasian informasi dari berbagai sumber untuk menjamin kualitas dan konsistensi data. Analisis statistik kemudian dilakukan  untuk menilai tren dan korelasi  antara faktor-faktor yang mempengaruhi kesuksesan film. Dengan menggunakan teknik penambangan data, model prediktif telah dikembangkan yang dapat memprediksi keberhasilan suatu genre film berdasarkan faktor-faktor yang  diidentifikasi. Validasi model dilakukan melalui pengujian terhadap data film yang tidak terlibat dalam pengembangan model. Selain itu, model prediktif digunakan dalam  keputusan investasi di industri film. Evaluasi rutin dilakukan untuk memastikan bahwa model tersebut tetap relevan dan diperbarui sebagai respons terhadap perubahan tren industri dan faktor lain yang memengaruhi kesuksesan sebuah film.\n",
        "\n",
        "\n",
        "\n",
        "\n",
        "\n",
        "\n"
      ],
      "metadata": {
        "id": "Qq_iiiy5PPI0"
      }
    }
  ]
}